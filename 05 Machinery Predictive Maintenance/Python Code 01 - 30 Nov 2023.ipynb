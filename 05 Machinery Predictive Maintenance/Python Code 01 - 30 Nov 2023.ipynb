{
 "cells": [
  {
   "cell_type": "markdown",
   "metadata": {},
   "source": [
    "# **Setup**"
   ]
  },
  {
   "cell_type": "code",
   "execution_count": 1,
   "metadata": {},
   "outputs": [],
   "source": [
    "import numpy as np \n",
    "import pandas as pd \n",
    "from IPython.display import clear_output\n",
    "import matplotlib.pyplot as plt \n",
    "import seaborn as sns"
   ]
  },
  {
   "cell_type": "markdown",
   "metadata": {},
   "source": [
    "# **Data Import**"
   ]
  },
  {
   "cell_type": "code",
   "execution_count": 2,
   "metadata": {},
   "outputs": [
    {
     "name": "stdout",
     "output_type": "stream",
     "text": [
      "(307751, 16)\n"
     ]
    },
    {
     "data": {
      "text/html": [
       "<div>\n",
       "<style scoped>\n",
       "    .dataframe tbody tr th:only-of-type {\n",
       "        vertical-align: middle;\n",
       "    }\n",
       "\n",
       "    .dataframe tbody tr th {\n",
       "        vertical-align: top;\n",
       "    }\n",
       "\n",
       "    .dataframe thead th {\n",
       "        text-align: right;\n",
       "    }\n",
       "</style>\n",
       "<table border=\"1\" class=\"dataframe\">\n",
       "  <thead>\n",
       "    <tr style=\"text-align: right;\">\n",
       "      <th></th>\n",
       "      <th>ID</th>\n",
       "      <th>DATE</th>\n",
       "      <th>REGION_CLUSTER</th>\n",
       "      <th>MAINTENANCE_VENDOR</th>\n",
       "      <th>MANUFACTURER</th>\n",
       "      <th>WELL_GROUP</th>\n",
       "      <th>S15</th>\n",
       "      <th>S17</th>\n",
       "      <th>S13</th>\n",
       "      <th>S5</th>\n",
       "      <th>S16</th>\n",
       "      <th>S19</th>\n",
       "      <th>S18</th>\n",
       "      <th>EQUIPMENT_FAILURE</th>\n",
       "      <th>S8</th>\n",
       "      <th>AGE_OF_EQUIPMENT</th>\n",
       "    </tr>\n",
       "  </thead>\n",
       "  <tbody>\n",
       "    <tr>\n",
       "      <th>0</th>\n",
       "      <td>100001</td>\n",
       "      <td>12-02-2014</td>\n",
       "      <td>G</td>\n",
       "      <td>O</td>\n",
       "      <td>Y</td>\n",
       "      <td>1</td>\n",
       "      <td>11.088000</td>\n",
       "      <td>145.223448</td>\n",
       "      <td>39.34</td>\n",
       "      <td>3501.0</td>\n",
       "      <td>8.426869</td>\n",
       "      <td>1.9</td>\n",
       "      <td>24.610345</td>\n",
       "      <td>0</td>\n",
       "      <td>0.0</td>\n",
       "      <td>880</td>\n",
       "    </tr>\n",
       "    <tr>\n",
       "      <th>1</th>\n",
       "      <td>100001</td>\n",
       "      <td>12-03-2014</td>\n",
       "      <td>G</td>\n",
       "      <td>O</td>\n",
       "      <td>Y</td>\n",
       "      <td>1</td>\n",
       "      <td>8.877943</td>\n",
       "      <td>187.573214</td>\n",
       "      <td>39.20</td>\n",
       "      <td>3489.0</td>\n",
       "      <td>6.483714</td>\n",
       "      <td>1.9</td>\n",
       "      <td>24.671429</td>\n",
       "      <td>0</td>\n",
       "      <td>0.0</td>\n",
       "      <td>881</td>\n",
       "    </tr>\n",
       "    <tr>\n",
       "      <th>2</th>\n",
       "      <td>100001</td>\n",
       "      <td>12-04-2014</td>\n",
       "      <td>G</td>\n",
       "      <td>O</td>\n",
       "      <td>Y</td>\n",
       "      <td>1</td>\n",
       "      <td>8.676444</td>\n",
       "      <td>148.363704</td>\n",
       "      <td>38.87</td>\n",
       "      <td>3459.0</td>\n",
       "      <td>6.159659</td>\n",
       "      <td>2.0</td>\n",
       "      <td>24.733333</td>\n",
       "      <td>0</td>\n",
       "      <td>0.0</td>\n",
       "      <td>882</td>\n",
       "    </tr>\n",
       "    <tr>\n",
       "      <th>3</th>\n",
       "      <td>100001</td>\n",
       "      <td>12-05-2014</td>\n",
       "      <td>G</td>\n",
       "      <td>O</td>\n",
       "      <td>Y</td>\n",
       "      <td>1</td>\n",
       "      <td>9.988338</td>\n",
       "      <td>133.660000</td>\n",
       "      <td>39.47</td>\n",
       "      <td>3513.0</td>\n",
       "      <td>9.320308</td>\n",
       "      <td>2.0</td>\n",
       "      <td>24.773077</td>\n",
       "      <td>0</td>\n",
       "      <td>0.0</td>\n",
       "      <td>883</td>\n",
       "    </tr>\n",
       "    <tr>\n",
       "      <th>4</th>\n",
       "      <td>100001</td>\n",
       "      <td>12-06-2014</td>\n",
       "      <td>G</td>\n",
       "      <td>O</td>\n",
       "      <td>Y</td>\n",
       "      <td>1</td>\n",
       "      <td>8.475264</td>\n",
       "      <td>197.181600</td>\n",
       "      <td>40.33</td>\n",
       "      <td>3589.0</td>\n",
       "      <td>8.022960</td>\n",
       "      <td>1.5</td>\n",
       "      <td>24.808000</td>\n",
       "      <td>0</td>\n",
       "      <td>0.0</td>\n",
       "      <td>884</td>\n",
       "    </tr>\n",
       "  </tbody>\n",
       "</table>\n",
       "</div>"
      ],
      "text/plain": [
       "       ID        DATE REGION_CLUSTER MAINTENANCE_VENDOR MANUFACTURER  \\\n",
       "0  100001  12-02-2014              G                  O            Y   \n",
       "1  100001  12-03-2014              G                  O            Y   \n",
       "2  100001  12-04-2014              G                  O            Y   \n",
       "3  100001  12-05-2014              G                  O            Y   \n",
       "4  100001  12-06-2014              G                  O            Y   \n",
       "\n",
       "   WELL_GROUP        S15         S17    S13      S5       S16  S19        S18  \\\n",
       "0           1  11.088000  145.223448  39.34  3501.0  8.426869  1.9  24.610345   \n",
       "1           1   8.877943  187.573214  39.20  3489.0  6.483714  1.9  24.671429   \n",
       "2           1   8.676444  148.363704  38.87  3459.0  6.159659  2.0  24.733333   \n",
       "3           1   9.988338  133.660000  39.47  3513.0  9.320308  2.0  24.773077   \n",
       "4           1   8.475264  197.181600  40.33  3589.0  8.022960  1.5  24.808000   \n",
       "\n",
       "   EQUIPMENT_FAILURE   S8  AGE_OF_EQUIPMENT  \n",
       "0                  0  0.0               880  \n",
       "1                  0  0.0               881  \n",
       "2                  0  0.0               882  \n",
       "3                  0  0.0               883  \n",
       "4                  0  0.0               884  "
      ]
     },
     "execution_count": 2,
     "metadata": {},
     "output_type": "execute_result"
    }
   ],
   "source": [
    "df = pd.read_csv('equipment_failure_data.csv')\n",
    "\n",
    "print(df.shape)\n",
    "df.head()"
   ]
  },
  {
   "cell_type": "code",
   "execution_count": null,
   "metadata": {},
   "outputs": [],
   "source": []
  },
  {
   "cell_type": "code",
   "execution_count": 3,
   "metadata": {},
   "outputs": [
    {
     "data": {
      "text/plain": [
       "Index(['ID', 'DATE', 'REGION_CLUSTER', 'MAINTENANCE_VENDOR', 'MANUFACTURER',\n",
       "       'WELL_GROUP', 'S15', 'S17', 'S13', 'S5', 'S16', 'S19', 'S18',\n",
       "       'EQUIPMENT_FAILURE', 'S8', 'AGE_OF_EQUIPMENT'],\n",
       "      dtype='object')"
      ]
     },
     "execution_count": 3,
     "metadata": {},
     "output_type": "execute_result"
    }
   ],
   "source": [
    "df.columns"
   ]
  },
  {
   "cell_type": "code",
   "execution_count": 4,
   "metadata": {},
   "outputs": [
    {
     "data": {
      "text/html": [
       "<div>\n",
       "<style scoped>\n",
       "    .dataframe tbody tr th:only-of-type {\n",
       "        vertical-align: middle;\n",
       "    }\n",
       "\n",
       "    .dataframe tbody tr th {\n",
       "        vertical-align: top;\n",
       "    }\n",
       "\n",
       "    .dataframe thead th {\n",
       "        text-align: right;\n",
       "    }\n",
       "</style>\n",
       "<table border=\"1\" class=\"dataframe\">\n",
       "  <thead>\n",
       "    <tr style=\"text-align: right;\">\n",
       "      <th></th>\n",
       "      <th>Machine_ID</th>\n",
       "      <th>Date</th>\n",
       "      <th>Region</th>\n",
       "      <th>Serv_Provider</th>\n",
       "      <th>MC_Make</th>\n",
       "      <th>MC_Type</th>\n",
       "      <th>S15_Sensor</th>\n",
       "      <th>S17_Sensor</th>\n",
       "      <th>S13_Sensor</th>\n",
       "      <th>S5_Sensor</th>\n",
       "      <th>S16_Sensor</th>\n",
       "      <th>S19_Sensor</th>\n",
       "      <th>S18_Sensor</th>\n",
       "      <th>EQUIPMENT_FAILURE</th>\n",
       "      <th>S8</th>\n",
       "      <th>MC_Age</th>\n",
       "    </tr>\n",
       "  </thead>\n",
       "  <tbody>\n",
       "    <tr>\n",
       "      <th>0</th>\n",
       "      <td>100001</td>\n",
       "      <td>12-02-2014</td>\n",
       "      <td>G</td>\n",
       "      <td>O</td>\n",
       "      <td>Y</td>\n",
       "      <td>1</td>\n",
       "      <td>11.088000</td>\n",
       "      <td>145.223448</td>\n",
       "      <td>39.34</td>\n",
       "      <td>3501.0</td>\n",
       "      <td>8.426869</td>\n",
       "      <td>1.9</td>\n",
       "      <td>24.610345</td>\n",
       "      <td>0</td>\n",
       "      <td>0.0</td>\n",
       "      <td>880</td>\n",
       "    </tr>\n",
       "    <tr>\n",
       "      <th>1</th>\n",
       "      <td>100001</td>\n",
       "      <td>12-03-2014</td>\n",
       "      <td>G</td>\n",
       "      <td>O</td>\n",
       "      <td>Y</td>\n",
       "      <td>1</td>\n",
       "      <td>8.877943</td>\n",
       "      <td>187.573214</td>\n",
       "      <td>39.20</td>\n",
       "      <td>3489.0</td>\n",
       "      <td>6.483714</td>\n",
       "      <td>1.9</td>\n",
       "      <td>24.671429</td>\n",
       "      <td>0</td>\n",
       "      <td>0.0</td>\n",
       "      <td>881</td>\n",
       "    </tr>\n",
       "    <tr>\n",
       "      <th>2</th>\n",
       "      <td>100001</td>\n",
       "      <td>12-04-2014</td>\n",
       "      <td>G</td>\n",
       "      <td>O</td>\n",
       "      <td>Y</td>\n",
       "      <td>1</td>\n",
       "      <td>8.676444</td>\n",
       "      <td>148.363704</td>\n",
       "      <td>38.87</td>\n",
       "      <td>3459.0</td>\n",
       "      <td>6.159659</td>\n",
       "      <td>2.0</td>\n",
       "      <td>24.733333</td>\n",
       "      <td>0</td>\n",
       "      <td>0.0</td>\n",
       "      <td>882</td>\n",
       "    </tr>\n",
       "    <tr>\n",
       "      <th>3</th>\n",
       "      <td>100001</td>\n",
       "      <td>12-05-2014</td>\n",
       "      <td>G</td>\n",
       "      <td>O</td>\n",
       "      <td>Y</td>\n",
       "      <td>1</td>\n",
       "      <td>9.988338</td>\n",
       "      <td>133.660000</td>\n",
       "      <td>39.47</td>\n",
       "      <td>3513.0</td>\n",
       "      <td>9.320308</td>\n",
       "      <td>2.0</td>\n",
       "      <td>24.773077</td>\n",
       "      <td>0</td>\n",
       "      <td>0.0</td>\n",
       "      <td>883</td>\n",
       "    </tr>\n",
       "    <tr>\n",
       "      <th>4</th>\n",
       "      <td>100001</td>\n",
       "      <td>12-06-2014</td>\n",
       "      <td>G</td>\n",
       "      <td>O</td>\n",
       "      <td>Y</td>\n",
       "      <td>1</td>\n",
       "      <td>8.475264</td>\n",
       "      <td>197.181600</td>\n",
       "      <td>40.33</td>\n",
       "      <td>3589.0</td>\n",
       "      <td>8.022960</td>\n",
       "      <td>1.5</td>\n",
       "      <td>24.808000</td>\n",
       "      <td>0</td>\n",
       "      <td>0.0</td>\n",
       "      <td>884</td>\n",
       "    </tr>\n",
       "  </tbody>\n",
       "</table>\n",
       "</div>"
      ],
      "text/plain": [
       "   Machine_ID        Date Region Serv_Provider MC_Make  MC_Type  S15_Sensor  \\\n",
       "0      100001  12-02-2014      G             O       Y        1   11.088000   \n",
       "1      100001  12-03-2014      G             O       Y        1    8.877943   \n",
       "2      100001  12-04-2014      G             O       Y        1    8.676444   \n",
       "3      100001  12-05-2014      G             O       Y        1    9.988338   \n",
       "4      100001  12-06-2014      G             O       Y        1    8.475264   \n",
       "\n",
       "   S17_Sensor  S13_Sensor  S5_Sensor  S16_Sensor  S19_Sensor  S18_Sensor  \\\n",
       "0  145.223448       39.34     3501.0    8.426869         1.9   24.610345   \n",
       "1  187.573214       39.20     3489.0    6.483714         1.9   24.671429   \n",
       "2  148.363704       38.87     3459.0    6.159659         2.0   24.733333   \n",
       "3  133.660000       39.47     3513.0    9.320308         2.0   24.773077   \n",
       "4  197.181600       40.33     3589.0    8.022960         1.5   24.808000   \n",
       "\n",
       "   EQUIPMENT_FAILURE   S8  MC_Age  \n",
       "0                  0  0.0     880  \n",
       "1                  0  0.0     881  \n",
       "2                  0  0.0     882  \n",
       "3                  0  0.0     883  \n",
       "4                  0  0.0     884  "
      ]
     },
     "execution_count": 4,
     "metadata": {},
     "output_type": "execute_result"
    }
   ],
   "source": [
    "df.rename({'ID':'Machine_ID','DATE':'Date','WELL_GROUP':'MC_Type','REGION_CLUSTER':'Region',\n",
    "           'S15':'S15_Sensor','S17':'S17_Sensor','S13':'S13_Sensor','S5':'S5_Sensor','S16':'S16_Sensor',\n",
    "           'S19':'S19_Sensor','S18':'S18_Sensor','AGE_OF_EQUIPMENT':'MC_Age',\n",
    "           'MAINTENANCE_VENDOR':'Serv_Provider','MANUFACTURER':'MC_Make'},axis=1,inplace=True)\n",
    "df.head()"
   ]
  },
  {
   "cell_type": "markdown",
   "metadata": {},
   "source": [
    "## **Check Missing Values**"
   ]
  },
  {
   "cell_type": "code",
   "execution_count": 5,
   "metadata": {},
   "outputs": [
    {
     "data": {
      "text/plain": [
       "Machine_ID           0\n",
       "Date                 0\n",
       "Region               0\n",
       "Serv_Provider        0\n",
       "MC_Make              0\n",
       "MC_Type              0\n",
       "S15_Sensor           0\n",
       "S17_Sensor           0\n",
       "S13_Sensor           0\n",
       "S5_Sensor            0\n",
       "S16_Sensor           0\n",
       "S19_Sensor           0\n",
       "S18_Sensor           0\n",
       "EQUIPMENT_FAILURE    0\n",
       "S8                   0\n",
       "MC_Age               0\n",
       "dtype: int64"
      ]
     },
     "execution_count": 5,
     "metadata": {},
     "output_type": "execute_result"
    }
   ],
   "source": [
    "df.isna().sum()"
   ]
  },
  {
   "cell_type": "markdown",
   "metadata": {},
   "source": [
    "## **Check DTypes**"
   ]
  },
  {
   "cell_type": "code",
   "execution_count": 6,
   "metadata": {},
   "outputs": [
    {
     "name": "stdout",
     "output_type": "stream",
     "text": [
      "<class 'pandas.core.frame.DataFrame'>\n",
      "RangeIndex: 307751 entries, 0 to 307750\n",
      "Data columns (total 16 columns):\n",
      " #   Column             Non-Null Count   Dtype  \n",
      "---  ------             --------------   -----  \n",
      " 0   Machine_ID         307751 non-null  int64  \n",
      " 1   Date               307751 non-null  object \n",
      " 2   Region             307751 non-null  object \n",
      " 3   Serv_Provider      307751 non-null  object \n",
      " 4   MC_Make            307751 non-null  object \n",
      " 5   MC_Type            307751 non-null  int64  \n",
      " 6   S15_Sensor         307751 non-null  float64\n",
      " 7   S17_Sensor         307751 non-null  float64\n",
      " 8   S13_Sensor         307751 non-null  float64\n",
      " 9   S5_Sensor          307751 non-null  float64\n",
      " 10  S16_Sensor         307751 non-null  float64\n",
      " 11  S19_Sensor         307751 non-null  float64\n",
      " 12  S18_Sensor         307751 non-null  float64\n",
      " 13  EQUIPMENT_FAILURE  307751 non-null  int64  \n",
      " 14  S8                 307751 non-null  float64\n",
      " 15  MC_Age             307751 non-null  int64  \n",
      "dtypes: float64(8), int64(4), object(4)\n",
      "memory usage: 37.6+ MB\n"
     ]
    }
   ],
   "source": [
    "df.info()"
   ]
  },
  {
   "cell_type": "markdown",
   "metadata": {},
   "source": [
    "## **Convert Date Dtype**"
   ]
  },
  {
   "cell_type": "code",
   "execution_count": 7,
   "metadata": {},
   "outputs": [
    {
     "data": {
      "text/plain": [
       "dtype('O')"
      ]
     },
     "execution_count": 7,
     "metadata": {},
     "output_type": "execute_result"
    }
   ],
   "source": [
    "df['Date'].dtype"
   ]
  },
  {
   "cell_type": "code",
   "execution_count": 8,
   "metadata": {},
   "outputs": [
    {
     "data": {
      "text/plain": [
       "0         12-02-2014\n",
       "1         12-03-2014\n",
       "2         12-04-2014\n",
       "3         12-05-2014\n",
       "4         12-06-2014\n",
       "             ...    \n",
       "307746      11/27/16\n",
       "307747      11/28/16\n",
       "307748      11/29/16\n",
       "307749      11/30/16\n",
       "307750    12-01-2016\n",
       "Name: Date, Length: 307751, dtype: object"
      ]
     },
     "execution_count": 8,
     "metadata": {},
     "output_type": "execute_result"
    }
   ],
   "source": [
    "df['Date']"
   ]
  },
  {
   "cell_type": "code",
   "execution_count": 9,
   "metadata": {},
   "outputs": [],
   "source": [
    "df['Date'] = pd.to_datetime(df['Date'],format='mixed')"
   ]
  },
  {
   "cell_type": "markdown",
   "metadata": {},
   "source": [
    "## **Statistical Summary**"
   ]
  },
  {
   "cell_type": "code",
   "execution_count": 10,
   "metadata": {},
   "outputs": [
    {
     "data": {
      "text/html": [
       "<div>\n",
       "<style scoped>\n",
       "    .dataframe tbody tr th:only-of-type {\n",
       "        vertical-align: middle;\n",
       "    }\n",
       "\n",
       "    .dataframe tbody tr th {\n",
       "        vertical-align: top;\n",
       "    }\n",
       "\n",
       "    .dataframe thead th {\n",
       "        text-align: right;\n",
       "    }\n",
       "</style>\n",
       "<table border=\"1\" class=\"dataframe\">\n",
       "  <thead>\n",
       "    <tr style=\"text-align: right;\">\n",
       "      <th></th>\n",
       "      <th>S15_Sensor</th>\n",
       "      <th>S17_Sensor</th>\n",
       "      <th>S13_Sensor</th>\n",
       "      <th>S5_Sensor</th>\n",
       "      <th>S16_Sensor</th>\n",
       "      <th>S19_Sensor</th>\n",
       "      <th>S18_Sensor</th>\n",
       "      <th>S8</th>\n",
       "    </tr>\n",
       "  </thead>\n",
       "  <tbody>\n",
       "    <tr>\n",
       "      <th>count</th>\n",
       "      <td>307751.000000</td>\n",
       "      <td>307751.000000</td>\n",
       "      <td>307751.000000</td>\n",
       "      <td>307751.000000</td>\n",
       "      <td>307751.000000</td>\n",
       "      <td>307751.000000</td>\n",
       "      <td>307751.000000</td>\n",
       "      <td>307751.000000</td>\n",
       "    </tr>\n",
       "    <tr>\n",
       "      <th>mean</th>\n",
       "      <td>14.585192</td>\n",
       "      <td>80.265541</td>\n",
       "      <td>35.018249</td>\n",
       "      <td>4675.848252</td>\n",
       "      <td>7.972097</td>\n",
       "      <td>9.069123</td>\n",
       "      <td>137.963064</td>\n",
       "      <td>144.665715</td>\n",
       "    </tr>\n",
       "    <tr>\n",
       "      <th>std</th>\n",
       "      <td>8.817056</td>\n",
       "      <td>85.804273</td>\n",
       "      <td>14.446585</td>\n",
       "      <td>2521.074632</td>\n",
       "      <td>2.321949</td>\n",
       "      <td>16.898887</td>\n",
       "      <td>238.890128</td>\n",
       "      <td>240.773926</td>\n",
       "    </tr>\n",
       "    <tr>\n",
       "      <th>min</th>\n",
       "      <td>0.000000</td>\n",
       "      <td>0.000000</td>\n",
       "      <td>0.000000</td>\n",
       "      <td>0.000000</td>\n",
       "      <td>0.000000</td>\n",
       "      <td>0.000000</td>\n",
       "      <td>0.000000</td>\n",
       "      <td>-16.490000</td>\n",
       "    </tr>\n",
       "    <tr>\n",
       "      <th>25%</th>\n",
       "      <td>7.694100</td>\n",
       "      <td>0.000000</td>\n",
       "      <td>28.200000</td>\n",
       "      <td>3209.000000</td>\n",
       "      <td>6.621500</td>\n",
       "      <td>0.900000</td>\n",
       "      <td>11.798276</td>\n",
       "      <td>9.250000</td>\n",
       "    </tr>\n",
       "    <tr>\n",
       "      <th>50%</th>\n",
       "      <td>11.661600</td>\n",
       "      <td>31.680000</td>\n",
       "      <td>34.940000</td>\n",
       "      <td>4237.047619</td>\n",
       "      <td>8.004000</td>\n",
       "      <td>4.200000</td>\n",
       "      <td>38.200000</td>\n",
       "      <td>53.080000</td>\n",
       "    </tr>\n",
       "    <tr>\n",
       "      <th>75%</th>\n",
       "      <td>22.560000</td>\n",
       "      <td>160.080000</td>\n",
       "      <td>41.610000</td>\n",
       "      <td>5743.000000</td>\n",
       "      <td>9.460000</td>\n",
       "      <td>10.600000</td>\n",
       "      <td>150.900000</td>\n",
       "      <td>165.092608</td>\n",
       "    </tr>\n",
       "    <tr>\n",
       "      <th>max</th>\n",
       "      <td>59.040000</td>\n",
       "      <td>2555.520000</td>\n",
       "      <td>592.890000</td>\n",
       "      <td>52767.000000</td>\n",
       "      <td>24.600000</td>\n",
       "      <td>511.000000</td>\n",
       "      <td>4151.700000</td>\n",
       "      <td>2068.110000</td>\n",
       "    </tr>\n",
       "  </tbody>\n",
       "</table>\n",
       "</div>"
      ],
      "text/plain": [
       "          S15_Sensor     S17_Sensor     S13_Sensor      S5_Sensor  \\\n",
       "count  307751.000000  307751.000000  307751.000000  307751.000000   \n",
       "mean       14.585192      80.265541      35.018249    4675.848252   \n",
       "std         8.817056      85.804273      14.446585    2521.074632   \n",
       "min         0.000000       0.000000       0.000000       0.000000   \n",
       "25%         7.694100       0.000000      28.200000    3209.000000   \n",
       "50%        11.661600      31.680000      34.940000    4237.047619   \n",
       "75%        22.560000     160.080000      41.610000    5743.000000   \n",
       "max        59.040000    2555.520000     592.890000   52767.000000   \n",
       "\n",
       "          S16_Sensor     S19_Sensor     S18_Sensor             S8  \n",
       "count  307751.000000  307751.000000  307751.000000  307751.000000  \n",
       "mean        7.972097       9.069123     137.963064     144.665715  \n",
       "std         2.321949      16.898887     238.890128     240.773926  \n",
       "min         0.000000       0.000000       0.000000     -16.490000  \n",
       "25%         6.621500       0.900000      11.798276       9.250000  \n",
       "50%         8.004000       4.200000      38.200000      53.080000  \n",
       "75%         9.460000      10.600000     150.900000     165.092608  \n",
       "max        24.600000     511.000000    4151.700000    2068.110000  "
      ]
     },
     "execution_count": 10,
     "metadata": {},
     "output_type": "execute_result"
    }
   ],
   "source": [
    "df.describe(include=('float'))"
   ]
  },
  {
   "cell_type": "code",
   "execution_count": 11,
   "metadata": {},
   "outputs": [
    {
     "data": {
      "text/html": [
       "<div>\n",
       "<style scoped>\n",
       "    .dataframe tbody tr th:only-of-type {\n",
       "        vertical-align: middle;\n",
       "    }\n",
       "\n",
       "    .dataframe tbody tr th {\n",
       "        vertical-align: top;\n",
       "    }\n",
       "\n",
       "    .dataframe thead th {\n",
       "        text-align: right;\n",
       "    }\n",
       "</style>\n",
       "<table border=\"1\" class=\"dataframe\">\n",
       "  <thead>\n",
       "    <tr style=\"text-align: right;\">\n",
       "      <th></th>\n",
       "      <th>Machine_ID</th>\n",
       "      <th>MC_Type</th>\n",
       "      <th>EQUIPMENT_FAILURE</th>\n",
       "      <th>MC_Age</th>\n",
       "    </tr>\n",
       "  </thead>\n",
       "  <tbody>\n",
       "    <tr>\n",
       "      <th>count</th>\n",
       "      <td>307751.000000</td>\n",
       "      <td>307751.000000</td>\n",
       "      <td>307751.000000</td>\n",
       "      <td>307751.000000</td>\n",
       "    </tr>\n",
       "    <tr>\n",
       "      <th>mean</th>\n",
       "      <td>100310.826603</td>\n",
       "      <td>4.543943</td>\n",
       "      <td>0.001368</td>\n",
       "      <td>2524.192399</td>\n",
       "    </tr>\n",
       "    <tr>\n",
       "      <th>std</th>\n",
       "      <td>177.574390</td>\n",
       "      <td>2.284121</td>\n",
       "      <td>0.036961</td>\n",
       "      <td>3158.930976</td>\n",
       "    </tr>\n",
       "    <tr>\n",
       "      <th>min</th>\n",
       "      <td>100001.000000</td>\n",
       "      <td>1.000000</td>\n",
       "      <td>0.000000</td>\n",
       "      <td>0.000000</td>\n",
       "    </tr>\n",
       "    <tr>\n",
       "      <th>25%</th>\n",
       "      <td>100161.000000</td>\n",
       "      <td>3.000000</td>\n",
       "      <td>0.000000</td>\n",
       "      <td>721.000000</td>\n",
       "    </tr>\n",
       "    <tr>\n",
       "      <th>50%</th>\n",
       "      <td>100311.000000</td>\n",
       "      <td>5.000000</td>\n",
       "      <td>0.000000</td>\n",
       "      <td>1113.000000</td>\n",
       "    </tr>\n",
       "    <tr>\n",
       "      <th>75%</th>\n",
       "      <td>100467.000000</td>\n",
       "      <td>6.000000</td>\n",
       "      <td>0.000000</td>\n",
       "      <td>2784.000000</td>\n",
       "    </tr>\n",
       "    <tr>\n",
       "      <th>max</th>\n",
       "      <td>100617.000000</td>\n",
       "      <td>8.000000</td>\n",
       "      <td>1.000000</td>\n",
       "      <td>15170.000000</td>\n",
       "    </tr>\n",
       "  </tbody>\n",
       "</table>\n",
       "</div>"
      ],
      "text/plain": [
       "          Machine_ID        MC_Type  EQUIPMENT_FAILURE         MC_Age\n",
       "count  307751.000000  307751.000000      307751.000000  307751.000000\n",
       "mean   100310.826603       4.543943           0.001368    2524.192399\n",
       "std       177.574390       2.284121           0.036961    3158.930976\n",
       "min    100001.000000       1.000000           0.000000       0.000000\n",
       "25%    100161.000000       3.000000           0.000000     721.000000\n",
       "50%    100311.000000       5.000000           0.000000    1113.000000\n",
       "75%    100467.000000       6.000000           0.000000    2784.000000\n",
       "max    100617.000000       8.000000           1.000000   15170.000000"
      ]
     },
     "execution_count": 11,
     "metadata": {},
     "output_type": "execute_result"
    }
   ],
   "source": [
    "df.describe(include=('int'))"
   ]
  },
  {
   "cell_type": "markdown",
   "metadata": {},
   "source": [
    "# **Data Exploration**"
   ]
  },
  {
   "cell_type": "markdown",
   "metadata": {},
   "source": [
    "## **No. Of Unique Machines**"
   ]
  },
  {
   "cell_type": "code",
   "execution_count": 12,
   "metadata": {},
   "outputs": [
    {
     "name": "stdout",
     "output_type": "stream",
     "text": [
      "421\n",
      "[100001 100003 100009 100014 100017 100018 100019 100020 100022 100036]\n"
     ]
    }
   ],
   "source": [
    "print(df['Machine_ID'].nunique())\n",
    "print(df['Machine_ID'].unique()[0:10])"
   ]
  },
  {
   "cell_type": "markdown",
   "metadata": {},
   "source": [
    "## **No. Of Maint. Service Providers**"
   ]
  },
  {
   "cell_type": "code",
   "execution_count": 13,
   "metadata": {},
   "outputs": [
    {
     "name": "stdout",
     "output_type": "stream",
     "text": [
      "8\n",
      "['O' 'L' 'M' 'K' 'J' 'I' 'N' 'P']\n"
     ]
    }
   ],
   "source": [
    "print(df['Serv_Provider'].nunique())\n",
    "print(df['Serv_Provider'].unique())"
   ]
  },
  {
   "cell_type": "markdown",
   "metadata": {},
   "source": [
    "## **No Of Manufacturers**"
   ]
  },
  {
   "cell_type": "code",
   "execution_count": 14,
   "metadata": {},
   "outputs": [
    {
     "name": "stdout",
     "output_type": "stream",
     "text": [
      "10\n",
      "['Y' 'T' 'X' 'S' 'Q' 'Z' 'V' 'W' 'U' 'R']\n"
     ]
    }
   ],
   "source": [
    "print(df['MC_Make'].nunique())\n",
    "print(df['MC_Make'].unique())"
   ]
  },
  {
   "cell_type": "markdown",
   "metadata": {},
   "source": [
    "## **Machine Failure Data**"
   ]
  },
  {
   "cell_type": "markdown",
   "metadata": {},
   "source": [
    "### **Machine Failure Events**"
   ]
  },
  {
   "cell_type": "code",
   "execution_count": 16,
   "metadata": {},
   "outputs": [
    {
     "data": {
      "text/plain": [
       "EQUIPMENT_FAILURE\n",
       "0    307330\n",
       "1       421\n",
       "Name: count, dtype: int64"
      ]
     },
     "execution_count": 16,
     "metadata": {},
     "output_type": "execute_result"
    }
   ],
   "source": [
    "df['EQUIPMENT_FAILURE'].value_counts()"
   ]
  },
  {
   "cell_type": "markdown",
   "metadata": {},
   "source": [
    "### **Failures By Manufacturer**"
   ]
  },
  {
   "cell_type": "code",
   "execution_count": 25,
   "metadata": {},
   "outputs": [
    {
     "data": {
      "text/plain": [
       "MC_Make\n",
       "T    59\n",
       "S    52\n",
       "X    46\n",
       "W    44\n",
       "U    43\n",
       "Y    38\n",
       "Q    38\n",
       "Z    35\n",
       "V    34\n",
       "R    32\n",
       "Name: count, dtype: int64"
      ]
     },
     "execution_count": 25,
     "metadata": {},
     "output_type": "execute_result"
    }
   ],
   "source": [
    "df[df['EQUIPMENT_FAILURE']==1]['MC_Make'].value_counts()"
   ]
  },
  {
   "cell_type": "code",
   "execution_count": 24,
   "metadata": {},
   "outputs": [
    {
     "data": {
      "text/plain": [
       "<Axes: xlabel='MC_Make'>"
      ]
     },
     "execution_count": 24,
     "metadata": {},
     "output_type": "execute_result"
    },
    {
     "data": {
      "image/png": "[encoded data removed]",
      "text/plain": [
       "<Figure size 640x480 with 1 Axes>"
      ]
     },
     "metadata": {},
     "output_type": "display_data"
    }
   ],
   "source": [
    "df[df['EQUIPMENT_FAILURE']==1]['MC_Make'].value_counts().plot(kind='bar')"
   ]
  },
  {
   "cell_type": "code",
   "execution_count": 21,
   "metadata": {},
   "outputs": [
    {
     "data": {
      "text/plain": [
       "MC_Make\n",
       "T    14.014252\n",
       "S    12.351544\n",
       "X    10.926366\n",
       "W    10.451306\n",
       "U    10.213777\n",
       "Y     9.026128\n",
       "Q     9.026128\n",
       "Z     8.313539\n",
       "V     8.076010\n",
       "R     7.600950\n",
       "Name: proportion, dtype: float64"
      ]
     },
     "execution_count": 21,
     "metadata": {},
     "output_type": "execute_result"
    }
   ],
   "source": [
    "df[df['EQUIPMENT_FAILURE']==1]['MC_Make'].value_counts(normalize=True)*100"
   ]
  },
  {
   "cell_type": "markdown",
   "metadata": {},
   "source": [
    "### **Failures By Service Provider**"
   ]
  },
  {
   "cell_type": "code",
   "execution_count": 27,
   "metadata": {},
   "outputs": [
    {
     "data": {
      "text/plain": [
       "Serv_Provider\n",
       "J    58\n",
       "O    57\n",
       "M    57\n",
       "K    53\n",
       "P    53\n",
       "N    51\n",
       "L    46\n",
       "I    46\n",
       "Name: count, dtype: int64"
      ]
     },
     "execution_count": 27,
     "metadata": {},
     "output_type": "execute_result"
    }
   ],
   "source": [
    "df[df['EQUIPMENT_FAILURE']==1]['Serv_Provider'].value_counts()"
   ]
  },
  {
   "cell_type": "code",
   "execution_count": 34,
   "metadata": {},
   "outputs": [
    {
     "data": {
      "text/plain": [
       "<Axes: xlabel='Serv_Provider'>"
      ]
     },
     "execution_count": 34,
     "metadata": {},
     "output_type": "execute_result"
    },
    {
     "data": {
      "image/png": "[encoded data removed]",
      "text/plain": [
       "<Figure size 640x480 with 1 Axes>"
      ]
     },
     "metadata": {},
     "output_type": "display_data"
    }
   ],
   "source": [
    "df[df['EQUIPMENT_FAILURE']==1]['Serv_Provider'].value_counts(sort=False).plot(kind='bar')"
   ]
  },
  {
   "cell_type": "markdown",
   "metadata": {},
   "source": [
    "### **Failures By Machine Type**"
   ]
  },
  {
   "cell_type": "code",
   "execution_count": 33,
   "metadata": {},
   "outputs": [
    {
     "data": {
      "text/plain": [
       "MC_Type\n",
       "1    48\n",
       "3    52\n",
       "2    56\n",
       "4    49\n",
       "6    58\n",
       "7    46\n",
       "8    57\n",
       "5    55\n",
       "Name: count, dtype: int64"
      ]
     },
     "execution_count": 33,
     "metadata": {},
     "output_type": "execute_result"
    }
   ],
   "source": [
    "df[df['EQUIPMENT_FAILURE']==1]['MC_Type'].value_counts(sort=False)"
   ]
  },
  {
   "cell_type": "code",
   "execution_count": 32,
   "metadata": {},
   "outputs": [
    {
     "data": {
      "text/plain": [
       "<Axes: xlabel='MC_Type'>"
      ]
     },
     "execution_count": 32,
     "metadata": {},
     "output_type": "execute_result"
    },
    {
     "data": {
      "image/png": "[encoded data removed]",
      "text/plain": [
       "<Figure size 640x480 with 1 Axes>"
      ]
     },
     "metadata": {},
     "output_type": "display_data"
    }
   ],
   "source": [
    "df[df['EQUIPMENT_FAILURE']==1]['MC_Type'].value_counts(sort=False).plot(kind='bar')"
   ]
  },
  {
   "cell_type": "code",
   "execution_count": 29,
   "metadata": {},
   "outputs": [
    {
     "data": {
      "text/html": [
       "<div>\n",
       "<style scoped>\n",
       "    .dataframe tbody tr th:only-of-type {\n",
       "        vertical-align: middle;\n",
       "    }\n",
       "\n",
       "    .dataframe tbody tr th {\n",
       "        vertical-align: top;\n",
       "    }\n",
       "\n",
       "    .dataframe thead th {\n",
       "        text-align: right;\n",
       "    }\n",
       "</style>\n",
       "<table border=\"1\" class=\"dataframe\">\n",
       "  <thead>\n",
       "    <tr style=\"text-align: right;\">\n",
       "      <th></th>\n",
       "      <th>Machine_ID</th>\n",
       "      <th>Date</th>\n",
       "      <th>Region</th>\n",
       "      <th>Serv_Provider</th>\n",
       "      <th>MC_Make</th>\n",
       "      <th>MC_Type</th>\n",
       "      <th>S15_Sensor</th>\n",
       "      <th>S17_Sensor</th>\n",
       "      <th>S13_Sensor</th>\n",
       "      <th>S5_Sensor</th>\n",
       "      <th>S16_Sensor</th>\n",
       "      <th>S19_Sensor</th>\n",
       "      <th>S18_Sensor</th>\n",
       "      <th>EQUIPMENT_FAILURE</th>\n",
       "      <th>S8</th>\n",
       "      <th>MC_Age</th>\n",
       "    </tr>\n",
       "  </thead>\n",
       "  <tbody>\n",
       "    <tr>\n",
       "      <th>0</th>\n",
       "      <td>100001</td>\n",
       "      <td>2014-12-02</td>\n",
       "      <td>G</td>\n",
       "      <td>O</td>\n",
       "      <td>Y</td>\n",
       "      <td>1</td>\n",
       "      <td>11.088000</td>\n",
       "      <td>145.223448</td>\n",
       "      <td>39.34</td>\n",
       "      <td>3501.0</td>\n",
       "      <td>8.426869</td>\n",
       "      <td>1.9</td>\n",
       "      <td>24.610345</td>\n",
       "      <td>0</td>\n",
       "      <td>0.0</td>\n",
       "      <td>880</td>\n",
       "    </tr>\n",
       "    <tr>\n",
       "      <th>1</th>\n",
       "      <td>100001</td>\n",
       "      <td>2014-12-03</td>\n",
       "      <td>G</td>\n",
       "      <td>O</td>\n",
       "      <td>Y</td>\n",
       "      <td>1</td>\n",
       "      <td>8.877943</td>\n",
       "      <td>187.573214</td>\n",
       "      <td>39.20</td>\n",
       "      <td>3489.0</td>\n",
       "      <td>6.483714</td>\n",
       "      <td>1.9</td>\n",
       "      <td>24.671429</td>\n",
       "      <td>0</td>\n",
       "      <td>0.0</td>\n",
       "      <td>881</td>\n",
       "    </tr>\n",
       "    <tr>\n",
       "      <th>2</th>\n",
       "      <td>100001</td>\n",
       "      <td>2014-12-04</td>\n",
       "      <td>G</td>\n",
       "      <td>O</td>\n",
       "      <td>Y</td>\n",
       "      <td>1</td>\n",
       "      <td>8.676444</td>\n",
       "      <td>148.363704</td>\n",
       "      <td>38.87</td>\n",
       "      <td>3459.0</td>\n",
       "      <td>6.159659</td>\n",
       "      <td>2.0</td>\n",
       "      <td>24.733333</td>\n",
       "      <td>0</td>\n",
       "      <td>0.0</td>\n",
       "      <td>882</td>\n",
       "    </tr>\n",
       "    <tr>\n",
       "      <th>3</th>\n",
       "      <td>100001</td>\n",
       "      <td>2014-12-05</td>\n",
       "      <td>G</td>\n",
       "      <td>O</td>\n",
       "      <td>Y</td>\n",
       "      <td>1</td>\n",
       "      <td>9.988338</td>\n",
       "      <td>133.660000</td>\n",
       "      <td>39.47</td>\n",
       "      <td>3513.0</td>\n",
       "      <td>9.320308</td>\n",
       "      <td>2.0</td>\n",
       "      <td>24.773077</td>\n",
       "      <td>0</td>\n",
       "      <td>0.0</td>\n",
       "      <td>883</td>\n",
       "    </tr>\n",
       "    <tr>\n",
       "      <th>4</th>\n",
       "      <td>100001</td>\n",
       "      <td>2014-12-06</td>\n",
       "      <td>G</td>\n",
       "      <td>O</td>\n",
       "      <td>Y</td>\n",
       "      <td>1</td>\n",
       "      <td>8.475264</td>\n",
       "      <td>197.181600</td>\n",
       "      <td>40.33</td>\n",
       "      <td>3589.0</td>\n",
       "      <td>8.022960</td>\n",
       "      <td>1.5</td>\n",
       "      <td>24.808000</td>\n",
       "      <td>0</td>\n",
       "      <td>0.0</td>\n",
       "      <td>884</td>\n",
       "    </tr>\n",
       "  </tbody>\n",
       "</table>\n",
       "</div>"
      ],
      "text/plain": [
       "   Machine_ID       Date Region Serv_Provider MC_Make  MC_Type  S15_Sensor  \\\n",
       "0      100001 2014-12-02      G             O       Y        1   11.088000   \n",
       "1      100001 2014-12-03      G             O       Y        1    8.877943   \n",
       "2      100001 2014-12-04      G             O       Y        1    8.676444   \n",
       "3      100001 2014-12-05      G             O       Y        1    9.988338   \n",
       "4      100001 2014-12-06      G             O       Y        1    8.475264   \n",
       "\n",
       "   S17_Sensor  S13_Sensor  S5_Sensor  S16_Sensor  S19_Sensor  S18_Sensor  \\\n",
       "0  145.223448       39.34     3501.0    8.426869         1.9   24.610345   \n",
       "1  187.573214       39.20     3489.0    6.483714         1.9   24.671429   \n",
       "2  148.363704       38.87     3459.0    6.159659         2.0   24.733333   \n",
       "3  133.660000       39.47     3513.0    9.320308         2.0   24.773077   \n",
       "4  197.181600       40.33     3589.0    8.022960         1.5   24.808000   \n",
       "\n",
       "   EQUIPMENT_FAILURE   S8  MC_Age  \n",
       "0                  0  0.0     880  \n",
       "1                  0  0.0     881  \n",
       "2                  0  0.0     882  \n",
       "3                  0  0.0     883  \n",
       "4                  0  0.0     884  "
      ]
     },
     "execution_count": 29,
     "metadata": {},
     "output_type": "execute_result"
    }
   ],
   "source": [
    "df.head()"
   ]
  }
 ],
 "metadata": {
  "kernelspec": {
   "display_name": "Python 3",
   "language": "python",
   "name": "python3"
  },
  "language_info": {
   "codemirror_mode": {
    "name": "ipython",
    "version": 3
   },
   "file_extension": ".py",
   "mimetype": "text/x-python",
   "name": "python",
   "nbconvert_exporter": "python",
   "pygments_lexer": "ipython3",
   "version": "3.11.6"
  }
 },
 "nbformat": 4,
 "nbformat_minor": 2
}

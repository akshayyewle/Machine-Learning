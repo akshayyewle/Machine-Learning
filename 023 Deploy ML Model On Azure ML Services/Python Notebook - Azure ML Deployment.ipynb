{
 "cells": [
  {
   "cell_type": "markdown",
   "metadata": {},
   "source": [
    "# **Setup**"
   ]
  },
  {
   "cell_type": "code",
   "execution_count": 2,
   "metadata": {},
   "outputs": [],
   "source": [
    "import os\n",
    "import json\n",
    "import requests\n",
    "\n",
    "from azureml.core import Workspace\n",
    "from azureml.core.model import Model\n",
    "from azureml.core.environment import Environment\n",
    "from azureml.core.conda_dependencies import CondaDependencies\n",
    "from azureml.core.model import InferenceConfig\n",
    "from azureml.core.webservice import AciWebservice, Webservice"
   ]
  },
  {
   "cell_type": "markdown",
   "metadata": {},
   "source": [
    "## **Load Config File**"
   ]
  },
  {
   "cell_type": "code",
   "execution_count": 3,
   "metadata": {},
   "outputs": [],
   "source": [
    "# laoding the configuration file - standard way - use .env file and load_dotenv from python-dotenv module\n",
    "config_file_path = \"config.json\"\n",
    "\n",
    "# Read JSON data into a dictionary\n",
    "with open(config_file_path, 'r') as file:\n",
    "    data = json.load(file)\n",
    "\n",
    "subscription_id = data[\"subscription_id\"]\n",
    "resource_group = data[\"resource_group\"]  \n",
    "workspace_name = data[\"workspace_name\"]\n",
    "region = data[\"region\"]"
   ]
  },
  {
   "cell_type": "code",
   "execution_count": 4,
   "metadata": {},
   "outputs": [
    {
     "name": "stdout",
     "output_type": "stream",
     "text": [
      "Resource_Group_01\n",
      "AzureML_workspace01\n",
      "UKsouth\n"
     ]
    }
   ],
   "source": [
    "print(resource_group)\n",
    "print(workspace_name)\n",
    "print(region)"
   ]
  },
  {
   "cell_type": "markdown",
   "metadata": {},
   "source": [
    "# **Create Azure ML Workspace**"
   ]
  },
  {
   "cell_type": "code",
   "execution_count": 5,
   "metadata": {},
   "outputs": [
    {
     "name": "stdout",
     "output_type": "stream",
     "text": [
      "Performing interactive authentication. Please follow the instructions on the terminal.\n"
     ]
    },
    {
     "name": "stderr",
     "output_type": "stream",
     "text": [
      "The default web browser has been opened at https://login.microsoftonline.com/organizations/oauth2/v2.0/authorize. Please continue the login in the web browser. If no web browser is available or if the web browser fails to open, use device code flow with `az login --use-device-code`.\n"
     ]
    },
    {
     "name": "stdout",
     "output_type": "stream",
     "text": [
      "Interactive authentication successfully completed.\n",
      "Deploying StorageAccount with name azuremlwstoragecdeed2146.\n",
      "Deploying KeyVault with name azuremlwkeyvaultdbb8bd9d.\n",
      "Deploying AppInsights with name azuremlwinsights4df8f14b.\n",
      "Deployed AppInsights with name azuremlwinsights4df8f14b. Took 4.33 seconds.\n",
      "Deploying Workspace with name AzureML_workspace01.\n",
      "Deployed Workspace with name AzureML_workspace01. Took 37.39 seconds.\n",
      "Workspace AzureML_workspace01 created\n"
     ]
    }
   ],
   "source": [
    "# Create a workspace\n",
    "ws = Workspace.create(name=workspace_name,\n",
    "                      subscription_id=subscription_id,\n",
    "                      resource_group=resource_group,\n",
    "                      location=region)\n",
    "\n",
    "print(f'Workspace {workspace_name} created')"
   ]
  },
  {
   "cell_type": "markdown",
   "metadata": {},
   "source": [
    "# **Import ML Model**"
   ]
  },
  {
   "cell_type": "code",
   "execution_count": 6,
   "metadata": {},
   "outputs": [
    {
     "name": "stdout",
     "output_type": "stream",
     "text": [
      "Registering model diabetes_prediction_model\n"
     ]
    }
   ],
   "source": [
    "# Specify the path to your  model file\n",
    "model_path = 'diabetes_model.pkl'\n",
    "model_name='diabetes_prediction_model'\n",
    "\n",
    "# Register the model in Azure Machine Learning\n",
    "registered_model = Model.register(model_path=model_path, model_name=model_name, workspace=ws)"
   ]
  },
  {
   "cell_type": "markdown",
   "metadata": {},
   "source": [
    "# **Create Environment**"
   ]
  },
  {
   "cell_type": "code",
   "execution_count": 7,
   "metadata": {},
   "outputs": [],
   "source": [
    "# Create a Conda environment for your scikit-learn model\n",
    "conda_env = Environment('my-conda-env')\n",
    "conda_env.python.conda_dependencies = CondaDependencies.create(conda_packages=['scikit-learn'])"
   ]
  },
  {
   "cell_type": "markdown",
   "metadata": {},
   "source": [
    "# **Inference Config**"
   ]
  },
  {
   "cell_type": "code",
   "execution_count": 8,
   "metadata": {},
   "outputs": [],
   "source": [
    "# Create an InferenceConfig\n",
    "inference_config = InferenceConfig(entry_script='score.py', environment=conda_env)"
   ]
  },
  {
   "cell_type": "markdown",
   "metadata": {},
   "source": [
    "# **Create ACI**\n",
    "\n",
    "ACI - Azure Container Instance"
   ]
  },
  {
   "cell_type": "code",
   "execution_count": 9,
   "metadata": {},
   "outputs": [],
   "source": [
    "# Specify deployment configuration for ACI\n",
    "aci_config = AciWebservice.deploy_configuration(cpu_cores=1, memory_gb=1)"
   ]
  },
  {
   "cell_type": "markdown",
   "metadata": {},
   "source": [
    "# **Deploy ML Model**"
   ]
  },
  {
   "cell_type": "code",
   "execution_count": 10,
   "metadata": {},
   "outputs": [
    {
     "name": "stderr",
     "output_type": "stream",
     "text": [
      "C:\\Users\\aksha\\AppData\\Local\\Temp\\ipykernel_33772\\2120983032.py:1: FutureWarning: azureml.core.model:\n",
      "To leverage new model deployment capabilities, AzureML recommends using CLI/SDK v2 to deploy models as online endpoint, \n",
      "please refer to respective documentations \n",
      "https://docs.microsoft.com/azure/machine-learning/how-to-deploy-managed-online-endpoints /\n",
      "https://docs.microsoft.com/azure/machine-learning/how-to-attach-kubernetes-anywhere \n",
      "For more information on migration, see https://aka.ms/acimoemigration \n",
      "To disable CLI/SDK v1 deprecation warning set AZUREML_LOG_DEPRECATION_WARNING_ENABLED to 'False'\n",
      "  service = Model.deploy(workspace=ws,\n"
     ]
    },
    {
     "name": "stdout",
     "output_type": "stream",
     "text": [
      "Tips: You can try get_logs(): https://aka.ms/debugimage#dockerlog or local deployment: https://aka.ms/debugimage#debug-locally to debug if deployment takes longer than 10 minutes.\n",
      "Running\n",
      "2024-05-20 13:28:27+01:00 Creating Container Registry if not exists..\n",
      "2024-05-20 13:38:27+01:00 Registering the environment..\n",
      "2024-05-20 13:38:32+01:00 Building image..\n",
      "2024-05-20 13:50:05+01:00 Generating deployment configuration.\n",
      "2024-05-20 13:50:06+01:00 Submitting deployment to compute..\n",
      "2024-05-20 13:50:13+01:00 Checking the status of deployment diabetes-prediction-service..\n",
      "2024-05-20 13:51:59+01:00 Checking the status of inference endpoint diabetes-prediction-service.\n",
      "Succeeded\n",
      "ACI service creation operation finished, operation \"Succeeded\"\n",
      "http://890aac3a-e61e-46a5-b6f3-51741c654251.uksouth.azurecontainer.io/score\n"
     ]
    }
   ],
   "source": [
    "service = Model.deploy(workspace=ws,\n",
    "                       name='diabetes-prediction-service',\n",
    "                       models=[registered_model],\n",
    "                       inference_config=inference_config,\n",
    "                       deployment_config=aci_config)\n",
    "\n",
    "service.wait_for_deployment(show_output=True)\n",
    "\n",
    "scoring_uri = service.scoring_uri\n",
    "print(scoring_uri)"
   ]
  },
  {
   "cell_type": "markdown",
   "metadata": {},
   "source": [
    "# **Test Inference Service**"
   ]
  },
  {
   "cell_type": "code",
   "execution_count": 17,
   "metadata": {},
   "outputs": [
    {
     "name": "stdout",
     "output_type": "stream",
     "text": [
      "{'result': [0]}\n",
      "Prediction: 0\n"
     ]
    }
   ],
   "source": [
    "# Define the input data as a list\n",
    "# input_data = [5,166,72,19,175,25.8,0.587,51]\n",
    "input_data = [5,116,74,0,0,25.6,0.201,30]\n",
    "\n",
    "# Convert the input data to a JSON string\n",
    "input_data_json = json.dumps({\"data\": [input_data]})\n",
    "\n",
    "# Replace with the URL of your deployed service\n",
    "# scoring_uri = \"http://82a1dd63-7ec8-49e6-8668-c222ce56cb2e.centralindia.azurecontainer.io/score\"  \n",
    "\n",
    "# Define the content type\n",
    "headers = {\"Content-Type\": \"application/json\"}\n",
    "\n",
    "# Send an HTTP POST request to the endpoint\n",
    "response = requests.post(scoring_uri, data=input_data_json, headers=headers)\n",
    "\n",
    "# Check the response status code\n",
    "if response.status_code == 200:\n",
    "    # Parse the JSON response\n",
    "    result = json.loads(response.json())\n",
    "    print(result)\n",
    "    # Extract the prediction (result) from the response\n",
    "    prediction = result[\"result\"][0]\n",
    "    print(f\"Prediction: {prediction}\")\n",
    "else:\n",
    "    print(f\"Error: {response.text}\")"
   ]
  },
  {
   "cell_type": "markdown",
   "metadata": {},
   "source": [
    "# **Delete Resources**"
   ]
  },
  {
   "cell_type": "code",
   "execution_count": 18,
   "metadata": {},
   "outputs": [
    {
     "name": "stdout",
     "output_type": "stream",
     "text": [
      "Running\n",
      "2024-05-20 14:11:07+01:00 Check and wait for operation (ed936bd7-c536-43ef-857c-5030bdb89dc9) to finish.\n",
      "2024-05-20 14:11:10+01:00 Deleting service entity.\n",
      "Succeeded\n"
     ]
    }
   ],
   "source": [
    "service.delete()"
   ]
  },
  {
   "cell_type": "code",
   "execution_count": 19,
   "metadata": {},
   "outputs": [],
   "source": [
    "registered_model.delete()"
   ]
  },
  {
   "cell_type": "code",
   "execution_count": 20,
   "metadata": {},
   "outputs": [],
   "source": [
    "# Delete the workspace\n",
    "ws.delete(delete_dependent_resources=True)"
   ]
  }
 ],
 "metadata": {
  "kernelspec": {
   "display_name": "Python 3",
   "language": "python",
   "name": "python3"
  },
  "language_info": {
   "codemirror_mode": {
    "name": "ipython",
    "version": 3
   },
   "file_extension": ".py",
   "mimetype": "text/x-python",
   "name": "python",
   "nbconvert_exporter": "python",
   "pygments_lexer": "ipython3",
   "version": "3.12.3"
  }
 },
 "nbformat": 4,
 "nbformat_minor": 2
}

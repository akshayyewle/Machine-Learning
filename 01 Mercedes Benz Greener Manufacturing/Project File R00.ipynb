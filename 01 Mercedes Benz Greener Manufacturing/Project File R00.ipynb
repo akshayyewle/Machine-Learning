{
 "cells": [
  {
   "cell_type": "markdown",
   "metadata": {},
   "source": [
    "# **Info**\n",
    "\n",
    "* Mercedes Benz Greener Manufacturing Dataset\n",
    "* https://www.kaggle.com/competitions/mercedes-benz-greener-manufacturing"
   ]
  },
  {
   "cell_type": "markdown",
   "metadata": {},
   "source": [
    "# **Setup**"
   ]
  },
  {
   "cell_type": "code",
   "execution_count": 1,
   "metadata": {},
   "outputs": [
    {
     "name": "stdout",
     "output_type": "stream",
     "text": [
      "Python 3.11.4\n"
     ]
    },
    {
     "name": "stdout",
     "output_type": "stream",
     "text": [
      "CPU Cores: 8\n",
      "System Memory: 8.0 GB\n"
     ]
    }
   ],
   "source": [
    "!python3 --version\n",
    "\n",
    "from psutil import *\n",
    "print(f'CPU Cores: {cpu_count()}')\n",
    "print(f'System Memory: {virtual_memory()[0]/(1024**3)} GB')"
   ]
  },
  {
   "cell_type": "code",
   "execution_count": 2,
   "metadata": {},
   "outputs": [],
   "source": [
    "import os \n",
    "from zipfile import ZipFile\n",
    "from IPython.display import clear_output\n",
    "import pandas as pd \n",
    "import numpy as np \n",
    "import matplotlib.pyplot as plt \n",
    "import plotly.express as px \n",
    "import seaborn"
   ]
  },
  {
   "cell_type": "code",
   "execution_count": 3,
   "metadata": {},
   "outputs": [
    {
     "data": {
      "text/plain": [
       "'/Users/akshayyewle/Library/CloudStorage/OneDrive-Personal/06 Data Science & Analytics/Github/Machine-Learning/01 Mercedes Benz Greener Manufacturing'"
      ]
     },
     "execution_count": 3,
     "metadata": {},
     "output_type": "execute_result"
    }
   ],
   "source": [
    "# Get Current Directory\n",
    "os.getcwd()"
   ]
  },
  {
   "cell_type": "code",
   "execution_count": 4,
   "metadata": {},
   "outputs": [
    {
     "ename": "FileNotFoundError",
     "evalue": "[Errno 2] No such file or directory: '01 Mercedes Benz Greener Manufacturing'",
     "output_type": "error",
     "traceback": [
      "\u001b[0;31m---------------------------------------------------------------------------\u001b[0m",
      "\u001b[0;31mFileNotFoundError\u001b[0m                         Traceback (most recent call last)",
      "\u001b[1;32m/Users/akshayyewle/Library/CloudStorage/OneDrive-Personal/06 Data Science & Analytics/Github/Machine-Learning/01 Mercedes Benz Greener Manufacturing/Project File R00.ipynb Cell 6\u001b[0m line \u001b[0;36m2\n\u001b[1;32m      <a href='vscode-notebook-cell:/Users/akshayyewle/Library/CloudStorage/OneDrive-Personal/06%20Data%20Science%20%26%20Analytics/Github/Machine-Learning/01%20Mercedes%20Benz%20Greener%20Manufacturing/Project%20File%20R00.ipynb#W5sZmlsZQ%3D%3D?line=0'>1</a>\u001b[0m \u001b[39m# Change Working Directory\u001b[39;00m\n\u001b[0;32m----> <a href='vscode-notebook-cell:/Users/akshayyewle/Library/CloudStorage/OneDrive-Personal/06%20Data%20Science%20%26%20Analytics/Github/Machine-Learning/01%20Mercedes%20Benz%20Greener%20Manufacturing/Project%20File%20R00.ipynb#W5sZmlsZQ%3D%3D?line=1'>2</a>\u001b[0m os\u001b[39m.\u001b[39;49mchdir(\u001b[39m'\u001b[39;49m\u001b[39m01 Mercedes Benz Greener Manufacturing\u001b[39;49m\u001b[39m'\u001b[39;49m)\n",
      "\u001b[0;31mFileNotFoundError\u001b[0m: [Errno 2] No such file or directory: '01 Mercedes Benz Greener Manufacturing'"
     ]
    }
   ],
   "source": [
    "# Change Working Directory\n",
    "os.chdir('01 Mercedes Benz Greener Manufacturing')"
   ]
  },
  {
   "cell_type": "code",
   "execution_count": null,
   "metadata": {},
   "outputs": [
    {
     "data": {
      "text/plain": [
       "'/Users/akshayyewle/Library/CloudStorage/OneDrive-Personal/06 Data Science & Analytics/Github/Machine-Learning/01 Mercedes Benz Greener Manufacturing'"
      ]
     },
     "execution_count": 12,
     "metadata": {},
     "output_type": "execute_result"
    }
   ],
   "source": [
    "# Check Working Directory\n",
    "os.getcwd()"
   ]
  },
  {
   "cell_type": "markdown",
   "metadata": {},
   "source": [
    "# **Data Extraction**"
   ]
  },
  {
   "cell_type": "code",
   "execution_count": null,
   "metadata": {},
   "outputs": [
    {
     "name": "stdout",
     "output_type": "stream",
     "text": [
      "Warning: Your Kaggle API key is readable by other users on this system! To fix this, you can run 'chmod 600 /Users/akshayyewle/.kaggle/kaggle.json'\n",
      "mercedes-benz-greener-manufacturing.zip: Skipping, found more recently modified local copy (use --force to force download)\n"
     ]
    }
   ],
   "source": [
    "!kaggle competitions download -c mercedes-benz-greener-manufacturing"
   ]
  },
  {
   "cell_type": "code",
   "execution_count": null,
   "metadata": {},
   "outputs": [
    {
     "name": "stdout",
     "output_type": "stream",
     "text": [
      "No. Of Files In Zip File:  3 \n",
      "\n",
      "['sample_submission.csv.zip', 'test.csv.zip', 'train.csv.zip']\n"
     ]
    }
   ],
   "source": [
    "with ZipFile('mercedes-benz-greener-manufacturing.zip','r') as zip_ref:\n",
    "    # Get list of file names in zip\n",
    "    list_of_files = zip_ref.namelist()\n",
    "    print('No. Of Files In Zip File: ',len(list_of_files),'\\n')\n",
    "    print(list_of_files)"
   ]
  },
  {
   "cell_type": "code",
   "execution_count": 5,
   "metadata": {},
   "outputs": [],
   "source": [
    "# Extract Zip File Contents In Main Directory\n",
    "with ZipFile('mercedes-benz-greener-manufacturing.zip','r') as zip_ref:\n",
    "    # Get list of file names in zip\n",
    "    list_of_files = zip_ref.namelist()\n",
    "\n",
    "    for file in list_of_files:\n",
    "        file_content = zip_ref.read(file)\n",
    "        with open(os.path.basename(file), \"wb\") as f:\n",
    "                f.write(file_content)"
   ]
  },
  {
   "cell_type": "code",
   "execution_count": 6,
   "metadata": {},
   "outputs": [],
   "source": [
    "# Extract Zip File Contents In Main Directory\n",
    "with ZipFile('train.csv.zip','r') as zip_ref:\n",
    "    # Get list of file names in zip\n",
    "    list_of_files = zip_ref.namelist()\n",
    "\n",
    "    for file in list_of_files:\n",
    "        file_content = zip_ref.read(file)\n",
    "        with open(os.path.basename(file), \"wb\") as f:\n",
    "                f.write(file_content)"
   ]
  },
  {
   "cell_type": "code",
   "execution_count": 7,
   "metadata": {},
   "outputs": [],
   "source": [
    "# Extract Zip File Contents In Main Directory\n",
    "with ZipFile('test.csv.zip','r') as zip_ref:\n",
    "    # Get list of file names in zip\n",
    "    list_of_files = zip_ref.namelist()\n",
    "\n",
    "    for file in list_of_files:\n",
    "        file_content = zip_ref.read(file)\n",
    "        with open(os.path.basename(file), \"wb\") as f:\n",
    "                f.write(file_content)"
   ]
  },
  {
   "cell_type": "markdown",
   "metadata": {},
   "source": [
    "# **Data Import**"
   ]
  },
  {
   "cell_type": "markdown",
   "metadata": {},
   "source": [
    "## **Training Data**"
   ]
  },
  {
   "cell_type": "code",
   "execution_count": 11,
   "metadata": {},
   "outputs": [
    {
     "name": "stdout",
     "output_type": "stream",
     "text": [
      "Data Shape:  (4209, 378)\n"
     ]
    },
    {
     "data": {
      "text/plain": [
       "Index(['ID', 'y', 'X0', 'X1', 'X2', 'X3', 'X4', 'X5', 'X6', 'X8',\n",
       "       ...\n",
       "       'X375', 'X376', 'X377', 'X378', 'X379', 'X380', 'X382', 'X383', 'X384',\n",
       "       'X385'],\n",
       "      dtype='object', length=378)"
      ]
     },
     "execution_count": 11,
     "metadata": {},
     "output_type": "execute_result"
    }
   ],
   "source": [
    "train = pd.read_csv('train.csv')\n",
    "\n",
    "print('Data Shape: ',train.shape)\n",
    "train.columns"
   ]
  },
  {
   "cell_type": "markdown",
   "metadata": {},
   "source": [
    "## **Testing Data**"
   ]
  },
  {
   "cell_type": "code",
   "execution_count": 10,
   "metadata": {},
   "outputs": [
    {
     "name": "stdout",
     "output_type": "stream",
     "text": [
      "Data Shape:  (4209, 378)\n"
     ]
    },
    {
     "data": {
      "text/plain": [
       "Index(['ID', 'y', 'X0', 'X1', 'X2', 'X3', 'X4', 'X5', 'X6', 'X8',\n",
       "       ...\n",
       "       'X375', 'X376', 'X377', 'X378', 'X379', 'X380', 'X382', 'X383', 'X384',\n",
       "       'X385'],\n",
       "      dtype='object', length=378)"
      ]
     },
     "execution_count": 10,
     "metadata": {},
     "output_type": "execute_result"
    }
   ],
   "source": [
    "test = pd.read_csv('train.csv')\n",
    "\n",
    "print('Data Shape: ',test.shape)\n",
    "test.columns"
   ]
  },
  {
   "cell_type": "markdown",
   "metadata": {},
   "source": [
    "## **Data Merger**"
   ]
  },
  {
   "cell_type": "code",
   "execution_count": 13,
   "metadata": {},
   "outputs": [
    {
     "name": "stdout",
     "output_type": "stream",
     "text": [
      "Data Shape:  (8418, 378)\n"
     ]
    },
    {
     "data": {
      "text/plain": [
       "Index(['ID', 'y', 'X0', 'X1', 'X2', 'X3', 'X4', 'X5', 'X6', 'X8',\n",
       "       ...\n",
       "       'X375', 'X376', 'X377', 'X378', 'X379', 'X380', 'X382', 'X383', 'X384',\n",
       "       'X385'],\n",
       "      dtype='object', length=378)"
      ]
     },
     "execution_count": 13,
     "metadata": {},
     "output_type": "execute_result"
    }
   ],
   "source": [
    "df = pd.concat([train,test],axis=0)\n",
    "\n",
    "print('Data Shape: ',df.shape)\n",
    "df.columns"
   ]
  }
 ],
 "metadata": {
  "kernelspec": {
   "display_name": "Python 3",
   "language": "python",
   "name": "python3"
  },
  "language_info": {
   "codemirror_mode": {
    "name": "ipython",
    "version": 3
   },
   "file_extension": ".py",
   "mimetype": "text/x-python",
   "name": "python",
   "nbconvert_exporter": "python",
   "pygments_lexer": "ipython3",
   "version": "3.11.4"
  }
 },
 "nbformat": 4,
 "nbformat_minor": 2
}

{
 "cells": [
  {
   "cell_type": "markdown",
   "metadata": {},
   "source": [
    "# **Setup**"
   ]
  },
  {
   "cell_type": "code",
   "execution_count": 1,
   "metadata": {},
   "outputs": [],
   "source": [
    "import pandas as pd\n",
    "import numpy as np\n",
    "import sklearn as sk\n",
    "import matplotlib.pyplot as plt"
   ]
  },
  {
   "cell_type": "code",
   "execution_count": 2,
   "metadata": {},
   "outputs": [
    {
     "name": "stdout",
     "output_type": "stream",
     "text": [
      "2.14.0\n",
      "Num GPUs Available:  0\n"
     ]
    }
   ],
   "source": [
    "import tensorflow as tf\n",
    "from tensorflow import keras\n",
    "print(tf.__version__)\n",
    "print(\"Num GPUs Available: \", len(tf.config.list_physical_devices('GPU')))\n",
    "# print(keras.__version__)"
   ]
  },
  {
   "cell_type": "code",
   "execution_count": 3,
   "metadata": {},
   "outputs": [
    {
     "name": "stdout",
     "output_type": "stream",
     "text": [
      "Python 3.11.6\n",
      "CPU Core Count:  16\n",
      "CPU Frequeny: scpufreq(current=2200.0, min=0.0, max=2200.0)\n",
      "System Memory: 16 GB\n",
      "Num GPUs Available:  0\n"
     ]
    }
   ],
   "source": [
    "!python --version\n",
    "\n",
    "from psutil import *\n",
    "print(\"CPU Core Count: \",cpu_count())\n",
    "print(f'CPU Frequeny: {cpu_freq()}')\n",
    "print(f'System Memory: {virtual_memory()[0]/(1024**3):.0f} GB')\n",
    "print(\"Num GPUs Available: \", len(tf.config.list_physical_devices('GPU')))"
   ]
  },
  {
   "cell_type": "markdown",
   "metadata": {},
   "source": [
    "# **Data Import**"
   ]
  },
  {
   "cell_type": "code",
   "execution_count": 4,
   "metadata": {},
   "outputs": [],
   "source": [
    "fashion_mnist = keras.datasets.fashion_mnist\n",
    "\n",
    "# Split Data\n",
    "(x_train, y_train), (x_test,y_test) = fashion_mnist.load_data()\n",
    "class_names = [\"T-shirt/top\", \"Trouser\", \"Pullover\", \"Dress\", \"Coat\", \"Sandal\", \"Shirt\", \"Sneaker\", \"Bag\", \"Ankle boot\"]"
   ]
  },
  {
   "cell_type": "code",
   "execution_count": 5,
   "metadata": {},
   "outputs": [
    {
     "data": {
      "text/plain": [
       "numpy.ndarray"
      ]
     },
     "execution_count": 5,
     "metadata": {},
     "output_type": "execute_result"
    }
   ],
   "source": [
    "type(x_train)"
   ]
  },
  {
   "cell_type": "code",
   "execution_count": 6,
   "metadata": {},
   "outputs": [],
   "source": [
    "# Change Pixel Intensities From [0,255] To [0,1]\n",
    "x_train = x_train / 255\n",
    "x_test = x_test / 255"
   ]
  },
  {
   "cell_type": "code",
   "execution_count": 7,
   "metadata": {},
   "outputs": [
    {
     "name": "stdout",
     "output_type": "stream",
     "text": [
      "(60000, 28, 28)\n"
     ]
    }
   ],
   "source": [
    "# Train Data Size\n",
    "print(x_train.shape)"
   ]
  },
  {
   "cell_type": "markdown",
   "metadata": {},
   "source": [
    "# **Data Exploration & Preparation**"
   ]
  },
  {
   "cell_type": "code",
   "execution_count": 8,
   "metadata": {},
   "outputs": [
    {
     "name": "stdout",
     "output_type": "stream",
     "text": [
      "[[0.         0.         0.         0.         0.         0.\n",
      "  0.         0.         0.         0.         0.         0.\n",
      "  0.         0.         0.         0.         0.         0.\n",
      "  0.         0.         0.         0.         0.         0.\n",
      "  0.         0.         0.         0.        ]\n",
      " [0.         0.         0.         0.         0.         0.\n",
      "  0.         0.         0.         0.         0.         0.\n",
      "  0.         0.         0.         0.         0.         0.\n",
      "  0.         0.         0.         0.         0.         0.\n",
      "  0.         0.         0.         0.        ]\n",
      " [0.         0.         0.         0.         0.         0.\n",
      "  0.         0.         0.         0.         0.         0.\n",
      "  0.         0.         0.         0.         0.         0.\n",
      "  0.         0.         0.         0.         0.         0.\n",
      "  0.         0.         0.         0.        ]\n",
      " [0.         0.         0.         0.         0.         0.\n",
      "  0.         0.         0.         0.         0.         0.\n",
      "  0.00392157 0.         0.         0.05098039 0.28627451 0.\n",
      "  0.         0.00392157 0.01568627 0.         0.         0.\n",
      "  0.         0.00392157 0.00392157 0.        ]\n",
      " [0.         0.         0.         0.         0.         0.\n",
      "  0.         0.         0.         0.         0.         0.\n",
      "  0.01176471 0.         0.14117647 0.53333333 0.49803922 0.24313725\n",
      "  0.21176471 0.         0.         0.         0.00392157 0.01176471\n",
      "  0.01568627 0.         0.         0.01176471]\n",
      " [0.         0.         0.         0.         0.         0.\n",
      "  0.         0.         0.         0.         0.         0.\n",
      "  0.02352941 0.         0.4        0.8        0.69019608 0.5254902\n",
      "  0.56470588 0.48235294 0.09019608 0.         0.         0.\n",
      "  0.         0.04705882 0.03921569 0.        ]\n",
      " [0.         0.         0.         0.         0.         0.\n",
      "  0.         0.         0.         0.         0.         0.\n",
      "  0.         0.         0.60784314 0.9254902  0.81176471 0.69803922\n",
      "  0.41960784 0.61176471 0.63137255 0.42745098 0.25098039 0.09019608\n",
      "  0.30196078 0.50980392 0.28235294 0.05882353]\n",
      " [0.         0.         0.         0.         0.         0.\n",
      "  0.         0.         0.         0.         0.         0.00392157\n",
      "  0.         0.27058824 0.81176471 0.8745098  0.85490196 0.84705882\n",
      "  0.84705882 0.63921569 0.49803922 0.4745098  0.47843137 0.57254902\n",
      "  0.55294118 0.34509804 0.6745098  0.25882353]\n",
      " [0.         0.         0.         0.         0.         0.\n",
      "  0.         0.         0.         0.00392157 0.00392157 0.00392157\n",
      "  0.         0.78431373 0.90980392 0.90980392 0.91372549 0.89803922\n",
      "  0.8745098  0.8745098  0.84313725 0.83529412 0.64313725 0.49803922\n",
      "  0.48235294 0.76862745 0.89803922 0.        ]\n",
      " [0.         0.         0.         0.         0.         0.\n",
      "  0.         0.         0.         0.         0.         0.\n",
      "  0.         0.71764706 0.88235294 0.84705882 0.8745098  0.89411765\n",
      "  0.92156863 0.89019608 0.87843137 0.87058824 0.87843137 0.86666667\n",
      "  0.8745098  0.96078431 0.67843137 0.        ]\n",
      " [0.         0.         0.         0.         0.         0.\n",
      "  0.         0.         0.         0.         0.         0.\n",
      "  0.         0.75686275 0.89411765 0.85490196 0.83529412 0.77647059\n",
      "  0.70588235 0.83137255 0.82352941 0.82745098 0.83529412 0.8745098\n",
      "  0.8627451  0.95294118 0.79215686 0.        ]\n",
      " [0.         0.         0.         0.         0.         0.\n",
      "  0.         0.         0.         0.00392157 0.01176471 0.\n",
      "  0.04705882 0.85882353 0.8627451  0.83137255 0.85490196 0.75294118\n",
      "  0.6627451  0.89019608 0.81568627 0.85490196 0.87843137 0.83137255\n",
      "  0.88627451 0.77254902 0.81960784 0.20392157]\n",
      " [0.         0.         0.         0.         0.         0.\n",
      "  0.         0.         0.         0.         0.02352941 0.\n",
      "  0.38823529 0.95686275 0.87058824 0.8627451  0.85490196 0.79607843\n",
      "  0.77647059 0.86666667 0.84313725 0.83529412 0.87058824 0.8627451\n",
      "  0.96078431 0.46666667 0.65490196 0.21960784]\n",
      " [0.         0.         0.         0.         0.         0.\n",
      "  0.         0.         0.         0.01568627 0.         0.\n",
      "  0.21568627 0.9254902  0.89411765 0.90196078 0.89411765 0.94117647\n",
      "  0.90980392 0.83529412 0.85490196 0.8745098  0.91764706 0.85098039\n",
      "  0.85098039 0.81960784 0.36078431 0.        ]\n",
      " [0.         0.         0.00392157 0.01568627 0.02352941 0.02745098\n",
      "  0.00784314 0.         0.         0.         0.         0.\n",
      "  0.92941176 0.88627451 0.85098039 0.8745098  0.87058824 0.85882353\n",
      "  0.87058824 0.86666667 0.84705882 0.8745098  0.89803922 0.84313725\n",
      "  0.85490196 1.         0.30196078 0.        ]\n",
      " [0.         0.01176471 0.         0.         0.         0.\n",
      "  0.         0.         0.         0.24313725 0.56862745 0.8\n",
      "  0.89411765 0.81176471 0.83529412 0.86666667 0.85490196 0.81568627\n",
      "  0.82745098 0.85490196 0.87843137 0.8745098  0.85882353 0.84313725\n",
      "  0.87843137 0.95686275 0.62352941 0.        ]\n",
      " [0.         0.         0.         0.         0.07058824 0.17254902\n",
      "  0.32156863 0.41960784 0.74117647 0.89411765 0.8627451  0.87058824\n",
      "  0.85098039 0.88627451 0.78431373 0.80392157 0.82745098 0.90196078\n",
      "  0.87843137 0.91764706 0.69019608 0.7372549  0.98039216 0.97254902\n",
      "  0.91372549 0.93333333 0.84313725 0.        ]\n",
      " [0.         0.22352941 0.73333333 0.81568627 0.87843137 0.86666667\n",
      "  0.87843137 0.81568627 0.8        0.83921569 0.81568627 0.81960784\n",
      "  0.78431373 0.62352941 0.96078431 0.75686275 0.80784314 0.8745098\n",
      "  1.         1.         0.86666667 0.91764706 0.86666667 0.82745098\n",
      "  0.8627451  0.90980392 0.96470588 0.        ]\n",
      " [0.01176471 0.79215686 0.89411765 0.87843137 0.86666667 0.82745098\n",
      "  0.82745098 0.83921569 0.80392157 0.80392157 0.80392157 0.8627451\n",
      "  0.94117647 0.31372549 0.58823529 1.         0.89803922 0.86666667\n",
      "  0.7372549  0.60392157 0.74901961 0.82352941 0.8        0.81960784\n",
      "  0.87058824 0.89411765 0.88235294 0.        ]\n",
      " [0.38431373 0.91372549 0.77647059 0.82352941 0.87058824 0.89803922\n",
      "  0.89803922 0.91764706 0.97647059 0.8627451  0.76078431 0.84313725\n",
      "  0.85098039 0.94509804 0.25490196 0.28627451 0.41568627 0.45882353\n",
      "  0.65882353 0.85882353 0.86666667 0.84313725 0.85098039 0.8745098\n",
      "  0.8745098  0.87843137 0.89803922 0.11372549]\n",
      " [0.29411765 0.8        0.83137255 0.8        0.75686275 0.80392157\n",
      "  0.82745098 0.88235294 0.84705882 0.7254902  0.77254902 0.80784314\n",
      "  0.77647059 0.83529412 0.94117647 0.76470588 0.89019608 0.96078431\n",
      "  0.9372549  0.8745098  0.85490196 0.83137255 0.81960784 0.87058824\n",
      "  0.8627451  0.86666667 0.90196078 0.2627451 ]\n",
      " [0.18823529 0.79607843 0.71764706 0.76078431 0.83529412 0.77254902\n",
      "  0.7254902  0.74509804 0.76078431 0.75294118 0.79215686 0.83921569\n",
      "  0.85882353 0.86666667 0.8627451  0.9254902  0.88235294 0.84705882\n",
      "  0.78039216 0.80784314 0.72941176 0.70980392 0.69411765 0.6745098\n",
      "  0.70980392 0.80392157 0.80784314 0.45098039]\n",
      " [0.         0.47843137 0.85882353 0.75686275 0.70196078 0.67058824\n",
      "  0.71764706 0.76862745 0.8        0.82352941 0.83529412 0.81176471\n",
      "  0.82745098 0.82352941 0.78431373 0.76862745 0.76078431 0.74901961\n",
      "  0.76470588 0.74901961 0.77647059 0.75294118 0.69019608 0.61176471\n",
      "  0.65490196 0.69411765 0.82352941 0.36078431]\n",
      " [0.         0.         0.29019608 0.74117647 0.83137255 0.74901961\n",
      "  0.68627451 0.6745098  0.68627451 0.70980392 0.7254902  0.7372549\n",
      "  0.74117647 0.7372549  0.75686275 0.77647059 0.8        0.81960784\n",
      "  0.82352941 0.82352941 0.82745098 0.7372549  0.7372549  0.76078431\n",
      "  0.75294118 0.84705882 0.66666667 0.        ]\n",
      " [0.00784314 0.         0.         0.         0.25882353 0.78431373\n",
      "  0.87058824 0.92941176 0.9372549  0.94901961 0.96470588 0.95294118\n",
      "  0.95686275 0.86666667 0.8627451  0.75686275 0.74901961 0.70196078\n",
      "  0.71372549 0.71372549 0.70980392 0.69019608 0.65098039 0.65882353\n",
      "  0.38823529 0.22745098 0.         0.        ]\n",
      " [0.         0.         0.         0.         0.         0.\n",
      "  0.         0.15686275 0.23921569 0.17254902 0.28235294 0.16078431\n",
      "  0.1372549  0.         0.         0.         0.         0.\n",
      "  0.         0.         0.         0.         0.         0.\n",
      "  0.         0.         0.         0.        ]\n",
      " [0.         0.         0.         0.         0.         0.\n",
      "  0.         0.         0.         0.         0.         0.\n",
      "  0.         0.         0.         0.         0.         0.\n",
      "  0.         0.         0.         0.         0.         0.\n",
      "  0.         0.         0.         0.        ]\n",
      " [0.         0.         0.         0.         0.         0.\n",
      "  0.         0.         0.         0.         0.         0.\n",
      "  0.         0.         0.         0.         0.         0.\n",
      "  0.         0.         0.         0.         0.         0.\n",
      "  0.         0.         0.         0.        ]] \n",
      "\n",
      "9\n",
      "Ankle boot\n"
     ]
    }
   ],
   "source": [
    "# Check Training Data\n",
    "print(x_train[0],'\\n')\n",
    "print(y_train[0])\n",
    "print(class_names[y_train[0]])"
   ]
  },
  {
   "cell_type": "code",
   "execution_count": 9,
   "metadata": {},
   "outputs": [
    {
     "data": {
      "image/png": "[encoded data removed]",
      "text/plain": [
       "<Figure size 640x480 with 1 Axes>"
      ]
     },
     "metadata": {},
     "output_type": "display_data"
    }
   ],
   "source": [
    "# Print Training Data As Grayscale Image\n",
    "plt.imshow(x_train[0], cmap='gray')\n",
    "plt.show()"
   ]
  },
  {
   "cell_type": "code",
   "execution_count": 10,
   "metadata": {},
   "outputs": [
    {
     "data": {
      "image/png": "[encoded data removed]",
      "text/plain": [
       "<Figure size 640x480 with 1 Axes>"
      ]
     },
     "metadata": {},
     "output_type": "display_data"
    }
   ],
   "source": [
    "# Print Training Data As Colour Image\n",
    "plt.imshow(x_train[0])\n",
    "plt.show()"
   ]
  },
  {
   "cell_type": "markdown",
   "metadata": {},
   "source": [
    "# **Model - ADAM Optimizer**"
   ]
  },
  {
   "cell_type": "code",
   "execution_count": 11,
   "metadata": {},
   "outputs": [
    {
     "name": "stdout",
     "output_type": "stream",
     "text": [
      "Model: \"sequential\"\n",
      "_________________________________________________________________\n",
      " Layer (type)                Output Shape              Param #   \n",
      "=================================================================\n",
      " flatten (Flatten)           (None, 784)               0         \n",
      "                                                                 \n",
      " dense (Dense)               (None, 600)               471000    \n",
      "                                                                 \n",
      " dense_1 (Dense)             (None, 200)               120200    \n",
      "                                                                 \n",
      " dense_2 (Dense)             (None, 10)                2010      \n",
      "                                                                 \n",
      "=================================================================\n",
      "Total params: 593210 (2.26 MB)\n",
      "Trainable params: 593210 (2.26 MB)\n",
      "Non-trainable params: 0 (0.00 Byte)\n",
      "_________________________________________________________________\n",
      "Epoch 1/30\n",
      "1688/1688 [==============================] - 11s 6ms/step - loss: 0.4770 - accuracy: 0.8271 - val_loss: 0.3903 - val_accuracy: 0.8507\n",
      "Epoch 2/30\n",
      "1688/1688 [==============================] - 10s 6ms/step - loss: 0.3608 - accuracy: 0.8666 - val_loss: 0.3533 - val_accuracy: 0.8720\n",
      "Epoch 3/30\n",
      "1688/1688 [==============================] - 10s 6ms/step - loss: 0.3245 - accuracy: 0.8792 - val_loss: 0.3316 - val_accuracy: 0.8785\n",
      "Epoch 4/30\n",
      "1688/1688 [==============================] - 10s 6ms/step - loss: 0.2971 - accuracy: 0.8891 - val_loss: 0.3399 - val_accuracy: 0.8757\n",
      "Epoch 5/30\n",
      "1688/1688 [==============================] - 10s 6ms/step - loss: 0.2799 - accuracy: 0.8961 - val_loss: 0.3232 - val_accuracy: 0.8872\n",
      "Epoch 6/30\n",
      "1688/1688 [==============================] - 10s 6ms/step - loss: 0.2689 - accuracy: 0.8985 - val_loss: 0.3091 - val_accuracy: 0.8862\n",
      "Epoch 7/30\n",
      "1688/1688 [==============================] - 11s 6ms/step - loss: 0.2512 - accuracy: 0.9041 - val_loss: 0.3259 - val_accuracy: 0.8907\n",
      "Epoch 8/30\n",
      "1688/1688 [==============================] - 11s 6ms/step - loss: 0.2405 - accuracy: 0.9098 - val_loss: 0.3195 - val_accuracy: 0.8892\n",
      "Epoch 9/30\n",
      "1688/1688 [==============================] - 11s 7ms/step - loss: 0.2329 - accuracy: 0.9125 - val_loss: 0.3156 - val_accuracy: 0.8893\n",
      "Epoch 10/30\n",
      "1688/1688 [==============================] - 10s 6ms/step - loss: 0.2206 - accuracy: 0.9160 - val_loss: 0.3217 - val_accuracy: 0.8902\n",
      "Epoch 11/30\n",
      "1688/1688 [==============================] - 10s 6ms/step - loss: 0.2137 - accuracy: 0.9192 - val_loss: 0.3243 - val_accuracy: 0.8928\n",
      "Epoch 12/30\n",
      "1688/1688 [==============================] - 10s 6ms/step - loss: 0.2062 - accuracy: 0.9222 - val_loss: 0.3391 - val_accuracy: 0.8937\n",
      "Epoch 13/30\n",
      "1688/1688 [==============================] - 12s 7ms/step - loss: 0.1988 - accuracy: 0.9242 - val_loss: 0.3338 - val_accuracy: 0.8890\n",
      "Epoch 14/30\n",
      "1688/1688 [==============================] - 12s 7ms/step - loss: 0.1898 - accuracy: 0.9263 - val_loss: 0.3419 - val_accuracy: 0.8895\n",
      "Epoch 15/30\n",
      "1688/1688 [==============================] - 10s 6ms/step - loss: 0.1841 - accuracy: 0.9300 - val_loss: 0.3819 - val_accuracy: 0.8912\n",
      "Epoch 16/30\n",
      "1688/1688 [==============================] - 10s 6ms/step - loss: 0.1779 - accuracy: 0.9318 - val_loss: 0.3446 - val_accuracy: 0.8938\n",
      "Epoch 17/30\n",
      "1688/1688 [==============================] - 10s 6ms/step - loss: 0.1727 - accuracy: 0.9340 - val_loss: 0.3977 - val_accuracy: 0.8947\n",
      "Epoch 18/30\n",
      "1688/1688 [==============================] - 10s 6ms/step - loss: 0.1654 - accuracy: 0.9363 - val_loss: 0.3530 - val_accuracy: 0.8963\n",
      "Epoch 19/30\n",
      "1688/1688 [==============================] - 11s 7ms/step - loss: 0.1640 - accuracy: 0.9381 - val_loss: 0.3609 - val_accuracy: 0.8947\n",
      "Epoch 20/30\n",
      "1688/1688 [==============================] - 11s 7ms/step - loss: 0.1541 - accuracy: 0.9396 - val_loss: 0.3797 - val_accuracy: 0.8920\n",
      "Epoch 21/30\n",
      "1688/1688 [==============================] - 11s 6ms/step - loss: 0.1522 - accuracy: 0.9408 - val_loss: 0.4170 - val_accuracy: 0.8937\n",
      "Epoch 22/30\n",
      "1688/1688 [==============================] - 11s 6ms/step - loss: 0.1466 - accuracy: 0.9432 - val_loss: 0.4058 - val_accuracy: 0.8950\n",
      "Epoch 23/30\n",
      "1688/1688 [==============================] - 11s 6ms/step - loss: 0.1439 - accuracy: 0.9440 - val_loss: 0.4007 - val_accuracy: 0.8990\n",
      "Epoch 24/30\n",
      "1688/1688 [==============================] - 10s 6ms/step - loss: 0.1386 - accuracy: 0.9475 - val_loss: 0.4411 - val_accuracy: 0.8975\n",
      "Epoch 25/30\n",
      "1688/1688 [==============================] - 11s 6ms/step - loss: 0.1317 - accuracy: 0.9486 - val_loss: 0.4152 - val_accuracy: 0.8908\n",
      "Epoch 26/30\n",
      "1688/1688 [==============================] - 11s 7ms/step - loss: 0.1341 - accuracy: 0.9475 - val_loss: 0.3990 - val_accuracy: 0.8927\n",
      "Epoch 27/30\n",
      "1688/1688 [==============================] - 12s 7ms/step - loss: 0.1303 - accuracy: 0.9488 - val_loss: 0.4181 - val_accuracy: 0.8968\n",
      "Epoch 28/30\n",
      "1688/1688 [==============================] - 12s 7ms/step - loss: 0.1266 - accuracy: 0.9514 - val_loss: 0.4811 - val_accuracy: 0.8948\n",
      "Epoch 29/30\n",
      "1688/1688 [==============================] - 11s 7ms/step - loss: 0.1224 - accuracy: 0.9521 - val_loss: 0.4659 - val_accuracy: 0.8942\n",
      "Epoch 30/30\n",
      "1688/1688 [==============================] - 11s 6ms/step - loss: 0.1180 - accuracy: 0.9542 - val_loss: 0.4307 - val_accuracy: 0.8948\n",
      "\n",
      " \n",
      "\n",
      "313/313 [==============================] - 0s 1ms/step - loss: 0.4978 - accuracy: 0.8890\n"
     ]
    },
    {
     "data": {
      "text/plain": [
       "[0.4977553188800812, 0.8889999985694885]"
      ]
     },
     "execution_count": 11,
     "metadata": {},
     "output_type": "execute_result"
    }
   ],
   "source": [
    "# Build A MLP Classifier Using Keras Sequential Model\n",
    "model11 = keras.models.Sequential()\n",
    "\n",
    "# Add Neural Network Layers\n",
    "model11.add(keras.layers.Flatten(input_shape=[28,28]))\n",
    "model11.add(keras.layers.Dense(600,activation='relu'))\n",
    "model11.add(keras.layers.Dense(200,activation='relu'))\n",
    "model11.add(keras.layers.Dense(10,activation='softmax'))\n",
    "model11.summary()\n",
    "\n",
    "# Use Keras SGD Optimizer & LR = 0.00001 Instead Of Regular SGD\n",
    "model11.compile(loss='sparse_categorical_crossentropy', optimizer=keras.optimizers.Adam(learning_rate=0.001,beta_1=0.9,beta_2=0.999),metrics=['accuracy'])\n",
    "model11.fit(x_train,y_train,epochs=30,validation_split=0.1)\n",
    "\n",
    "print('\\n','\\n')\n",
    "model11.evaluate(x_test,y_test)"
   ]
  },
  {
   "cell_type": "code",
   "execution_count": 12,
   "metadata": {},
   "outputs": [],
   "source": [
    "# Python 3.10 | Tensorflow 2.10 | Intel Iris GPU:\n",
    "# Processing Time: 12.33 Min \n",
    "# Output: [0.488474041223526, 0.8920000195503235]\n",
    "\n",
    "# Python 3.11 | Tensorflow 2.14 | Intel Iris CPU:\n",
    "# Processing Time: 05.42 Min \n",
    "# Output: [0.5180577635765076, 0.8883000016212463]"
   ]
  }
 ],
 "metadata": {
  "kernelspec": {
   "display_name": "Python 3",
   "language": "python",
   "name": "python3"
  },
  "language_info": {
   "codemirror_mode": {
    "name": "ipython",
    "version": 3
   },
   "file_extension": ".py",
   "mimetype": "text/x-python",
   "name": "python",
   "nbconvert_exporter": "python",
   "pygments_lexer": "ipython3",
   "version": "3.11.6"
  }
 },
 "nbformat": 4,
 "nbformat_minor": 2
}
